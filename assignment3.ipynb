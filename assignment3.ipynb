{
 "cells": [
  {
   "cell_type": "code",
   "execution_count": 1,
   "metadata": {},
   "outputs": [],
   "source": [
    "import seaborn as sns\n",
    "import sklearn as sk #this is the most popular library for statistics and machine learning\n",
    "import pandas as pd\n",
    "import matplotlib.pyplot as plt \n",
    "import math\n",
    "from sklearn.model_selection import train_test_split\n",
    "from sklearn.linear_model import LinearRegression\n",
    "from sklearn.metrics import mean_squared_error\n",
    "from sklearn.metrics import r2_score"
   ]
  },
  {
   "cell_type": "markdown",
   "metadata": {},
   "source": [
    "How does linear regression work?"
   ]
  },
  {
   "cell_type": "code",
   "execution_count": 2,
   "metadata": {},
   "outputs": [
    {
     "data": {
      "text/html": [
       "<div>\n",
       "<style scoped>\n",
       "    .dataframe tbody tr th:only-of-type {\n",
       "        vertical-align: middle;\n",
       "    }\n",
       "\n",
       "    .dataframe tbody tr th {\n",
       "        vertical-align: top;\n",
       "    }\n",
       "\n",
       "    .dataframe thead th {\n",
       "        text-align: right;\n",
       "    }\n",
       "</style>\n",
       "<table border=\"1\" class=\"dataframe\">\n",
       "  <thead>\n",
       "    <tr style=\"text-align: right;\">\n",
       "      <th></th>\n",
       "      <th>id</th>\n",
       "      <th>url</th>\n",
       "      <th>n_tokens_title</th>\n",
       "      <th>n_tokens_content</th>\n",
       "      <th>num_imgs</th>\n",
       "      <th>num_videos</th>\n",
       "      <th>average_token_length</th>\n",
       "      <th>data_channel_is_lifestyle</th>\n",
       "      <th>data_channel_is_entertainment</th>\n",
       "      <th>data_channel_is_bus</th>\n",
       "      <th>...</th>\n",
       "      <th>weekday_is_friday</th>\n",
       "      <th>weekday_is_saturday</th>\n",
       "      <th>weekday_is_sunday</th>\n",
       "      <th>is_weekend</th>\n",
       "      <th>global_subjectivity</th>\n",
       "      <th>global_sentiment_polarity</th>\n",
       "      <th>title_subjectivity</th>\n",
       "      <th>title_sentiment_polarity</th>\n",
       "      <th>shares</th>\n",
       "      <th>shares_log</th>\n",
       "    </tr>\n",
       "  </thead>\n",
       "  <tbody>\n",
       "    <tr>\n",
       "      <th>0</th>\n",
       "      <td>1</td>\n",
       "      <td>http://mashable.com/2013/10/29/ashton-kutcher-...</td>\n",
       "      <td>10</td>\n",
       "      <td>821</td>\n",
       "      <td>12</td>\n",
       "      <td>0</td>\n",
       "      <td>4.518879</td>\n",
       "      <td>0</td>\n",
       "      <td>0</td>\n",
       "      <td>0</td>\n",
       "      <td>...</td>\n",
       "      <td>0</td>\n",
       "      <td>0</td>\n",
       "      <td>0</td>\n",
       "      <td>0</td>\n",
       "      <td>0.439379</td>\n",
       "      <td>0.082486</td>\n",
       "      <td>0.666667</td>\n",
       "      <td>0.375</td>\n",
       "      <td>2100</td>\n",
       "      <td>3.322219</td>\n",
       "    </tr>\n",
       "    <tr>\n",
       "      <th>1</th>\n",
       "      <td>2</td>\n",
       "      <td>http://mashable.com/2014/09/08/mashies-sept-19...</td>\n",
       "      <td>9</td>\n",
       "      <td>489</td>\n",
       "      <td>6</td>\n",
       "      <td>0</td>\n",
       "      <td>5.040900</td>\n",
       "      <td>0</td>\n",
       "      <td>0</td>\n",
       "      <td>0</td>\n",
       "      <td>...</td>\n",
       "      <td>0</td>\n",
       "      <td>0</td>\n",
       "      <td>0</td>\n",
       "      <td>0</td>\n",
       "      <td>0.300454</td>\n",
       "      <td>0.027715</td>\n",
       "      <td>0.000000</td>\n",
       "      <td>0.000</td>\n",
       "      <td>274</td>\n",
       "      <td>2.437751</td>\n",
       "    </tr>\n",
       "    <tr>\n",
       "      <th>2</th>\n",
       "      <td>3</td>\n",
       "      <td>http://mashable.com/2013/02/01/hello-kitty-roc...</td>\n",
       "      <td>11</td>\n",
       "      <td>131</td>\n",
       "      <td>0</td>\n",
       "      <td>1</td>\n",
       "      <td>4.877863</td>\n",
       "      <td>0</td>\n",
       "      <td>0</td>\n",
       "      <td>0</td>\n",
       "      <td>...</td>\n",
       "      <td>1</td>\n",
       "      <td>0</td>\n",
       "      <td>0</td>\n",
       "      <td>0</td>\n",
       "      <td>0.575486</td>\n",
       "      <td>0.259120</td>\n",
       "      <td>0.000000</td>\n",
       "      <td>0.000</td>\n",
       "      <td>1500</td>\n",
       "      <td>3.176091</td>\n",
       "    </tr>\n",
       "    <tr>\n",
       "      <th>3</th>\n",
       "      <td>4</td>\n",
       "      <td>http://mashable.com/2014/02/06/add-us-on-snapc...</td>\n",
       "      <td>8</td>\n",
       "      <td>556</td>\n",
       "      <td>2</td>\n",
       "      <td>0</td>\n",
       "      <td>4.974820</td>\n",
       "      <td>0</td>\n",
       "      <td>0</td>\n",
       "      <td>1</td>\n",
       "      <td>...</td>\n",
       "      <td>0</td>\n",
       "      <td>0</td>\n",
       "      <td>0</td>\n",
       "      <td>0</td>\n",
       "      <td>0.327220</td>\n",
       "      <td>0.134424</td>\n",
       "      <td>0.000000</td>\n",
       "      <td>0.000</td>\n",
       "      <td>2000</td>\n",
       "      <td>3.301030</td>\n",
       "    </tr>\n",
       "    <tr>\n",
       "      <th>4</th>\n",
       "      <td>5</td>\n",
       "      <td>http://mashable.com/2014/01/07/lindsey-vonn-wi...</td>\n",
       "      <td>9</td>\n",
       "      <td>880</td>\n",
       "      <td>18</td>\n",
       "      <td>0</td>\n",
       "      <td>4.928409</td>\n",
       "      <td>0</td>\n",
       "      <td>0</td>\n",
       "      <td>0</td>\n",
       "      <td>...</td>\n",
       "      <td>0</td>\n",
       "      <td>0</td>\n",
       "      <td>0</td>\n",
       "      <td>0</td>\n",
       "      <td>0.507709</td>\n",
       "      <td>0.109256</td>\n",
       "      <td>0.000000</td>\n",
       "      <td>0.000</td>\n",
       "      <td>6000</td>\n",
       "      <td>3.778151</td>\n",
       "    </tr>\n",
       "  </tbody>\n",
       "</table>\n",
       "<p>5 rows × 27 columns</p>\n",
       "</div>"
      ],
      "text/plain": [
       "   id                                                url  n_tokens_title  \\\n",
       "0   1  http://mashable.com/2013/10/29/ashton-kutcher-...              10   \n",
       "1   2  http://mashable.com/2014/09/08/mashies-sept-19...               9   \n",
       "2   3  http://mashable.com/2013/02/01/hello-kitty-roc...              11   \n",
       "3   4  http://mashable.com/2014/02/06/add-us-on-snapc...               8   \n",
       "4   5  http://mashable.com/2014/01/07/lindsey-vonn-wi...               9   \n",
       "\n",
       "   n_tokens_content  num_imgs  num_videos  average_token_length  \\\n",
       "0               821        12           0              4.518879   \n",
       "1               489         6           0              5.040900   \n",
       "2               131         0           1              4.877863   \n",
       "3               556         2           0              4.974820   \n",
       "4               880        18           0              4.928409   \n",
       "\n",
       "   data_channel_is_lifestyle  data_channel_is_entertainment  \\\n",
       "0                          0                              0   \n",
       "1                          0                              0   \n",
       "2                          0                              0   \n",
       "3                          0                              0   \n",
       "4                          0                              0   \n",
       "\n",
       "   data_channel_is_bus  ...  weekday_is_friday  weekday_is_saturday  \\\n",
       "0                    0  ...                  0                    0   \n",
       "1                    0  ...                  0                    0   \n",
       "2                    0  ...                  1                    0   \n",
       "3                    1  ...                  0                    0   \n",
       "4                    0  ...                  0                    0   \n",
       "\n",
       "   weekday_is_sunday  is_weekend  global_subjectivity  \\\n",
       "0                  0           0             0.439379   \n",
       "1                  0           0             0.300454   \n",
       "2                  0           0             0.575486   \n",
       "3                  0           0             0.327220   \n",
       "4                  0           0             0.507709   \n",
       "\n",
       "   global_sentiment_polarity  title_subjectivity  title_sentiment_polarity  \\\n",
       "0                   0.082486            0.666667                     0.375   \n",
       "1                   0.027715            0.000000                     0.000   \n",
       "2                   0.259120            0.000000                     0.000   \n",
       "3                   0.134424            0.000000                     0.000   \n",
       "4                   0.109256            0.000000                     0.000   \n",
       "\n",
       "   shares  shares_log  \n",
       "0    2100    3.322219  \n",
       "1     274    2.437751  \n",
       "2    1500    3.176091  \n",
       "3    2000    3.301030  \n",
       "4    6000    3.778151  \n",
       "\n",
       "[5 rows x 27 columns]"
      ]
     },
     "execution_count": 2,
     "metadata": {},
     "output_type": "execute_result"
    }
   ],
   "source": [
    "df = pd.read_csv('data Mashable.csv')\n",
    "df.head(5)"
   ]
  },
  {
   "cell_type": "code",
   "execution_count": 3,
   "metadata": {},
   "outputs": [],
   "source": [
    "train, test = train_test_split(df, test_size=0.2)"
   ]
  },
  {
   "cell_type": "code",
   "execution_count": 4,
   "metadata": {},
   "outputs": [],
   "source": [
    "X = df[['data_channel_is_lifestyle', 'global_subjectivity', 'is_weekend','num_imgs', 'data_channel_is_entertainment']]\n",
    "\n",
    "y = df['shares_log']"
   ]
  },
  {
   "cell_type": "code",
   "execution_count": 5,
   "metadata": {},
   "outputs": [],
   "source": [
    "X_train, X_test, y_train, y_test = train_test_split(X, y, test_size= 0.3, random_state =1)"
   ]
  },
  {
   "cell_type": "code",
   "execution_count": 6,
   "metadata": {},
   "outputs": [
    {
     "name": "stdout",
     "output_type": "stream",
     "text": [
      "The regression line is equal to y = 3.10 + 0.04X\n"
     ]
    }
   ],
   "source": [
    "lm = LinearRegression() #this creates a new LR model\n",
    "lm.fit(X_train, y_train) #this \"fits\" the model\n",
    "\n",
    "b0 = lm.intercept_ #lm.coef_ gets a list of coefficients (excluding the intercept). [0] gets the actual number from the list\n",
    "b1 = lm.coef_[0] #gets the intercept\n",
    "\n",
    "print(f\"The regression line is equal to y = {b0:.2f} + {b1:.2f}X\") #.0f formats to 2 decimals."
   ]
  },
  {
   "cell_type": "markdown",
   "metadata": {},
   "source": [
    "The equation of the model is: "
   ]
  },
  {
   "cell_type": "markdown",
   "metadata": {},
   "source": [
    "$y=3.10 + 0.03x$"
   ]
  },
  {
   "cell_type": "code",
   "execution_count": 7,
   "metadata": {},
   "outputs": [],
   "source": [
    "lm = LinearRegression() #create the model\n",
    "model = lm.fit(X_train, y_train) #train the model"
   ]
  },
  {
   "cell_type": "markdown",
   "metadata": {},
   "source": [
    "Coefficients: "
   ]
  },
  {
   "cell_type": "code",
   "execution_count": 8,
   "metadata": {},
   "outputs": [
    {
     "data": {
      "text/html": [
       "<div>\n",
       "<style scoped>\n",
       "    .dataframe tbody tr th:only-of-type {\n",
       "        vertical-align: middle;\n",
       "    }\n",
       "\n",
       "    .dataframe tbody tr th {\n",
       "        vertical-align: top;\n",
       "    }\n",
       "\n",
       "    .dataframe thead th {\n",
       "        text-align: right;\n",
       "    }\n",
       "</style>\n",
       "<table border=\"1\" class=\"dataframe\">\n",
       "  <thead>\n",
       "    <tr style=\"text-align: right;\">\n",
       "      <th></th>\n",
       "      <th>0</th>\n",
       "    </tr>\n",
       "  </thead>\n",
       "  <tbody>\n",
       "    <tr>\n",
       "      <th>0.040443</th>\n",
       "      <td>data_channel_is_lifestyle</td>\n",
       "    </tr>\n",
       "    <tr>\n",
       "      <th>0.306443</th>\n",
       "      <td>global_subjectivity</td>\n",
       "    </tr>\n",
       "    <tr>\n",
       "      <th>0.125244</th>\n",
       "      <td>is_weekend</td>\n",
       "    </tr>\n",
       "    <tr>\n",
       "      <th>0.004146</th>\n",
       "      <td>num_imgs</td>\n",
       "    </tr>\n",
       "    <tr>\n",
       "      <th>-0.096015</th>\n",
       "      <td>data_channel_is_entertainment</td>\n",
       "    </tr>\n",
       "  </tbody>\n",
       "</table>\n",
       "</div>"
      ],
      "text/plain": [
       "                                       0\n",
       " 0.040443      data_channel_is_lifestyle\n",
       " 0.306443            global_subjectivity\n",
       " 0.125244                     is_weekend\n",
       " 0.004146                       num_imgs\n",
       "-0.096015  data_channel_is_entertainment"
      ]
     },
     "execution_count": 8,
     "metadata": {},
     "output_type": "execute_result"
    }
   ],
   "source": [
    "coef = pd.DataFrame(X.columns.values, lm.coef_) #this creates a df with a column with the column names, and the coefficients of the model\n",
    "coef"
   ]
  },
  {
   "cell_type": "code",
   "execution_count": 9,
   "metadata": {},
   "outputs": [
    {
     "data": {
      "text/plain": [
       "0.03210106626350817"
      ]
     },
     "execution_count": 9,
     "metadata": {},
     "output_type": "execute_result"
    }
   ],
   "source": [
    "y_test_p = lm.predict(X_test) #Generate predictions for the test data. So we use X.test, not X.train\n",
    "r2_score(y_test, y_test_p)"
   ]
  },
  {
   "cell_type": "markdown",
   "metadata": {},
   "source": [
    "The R^2 is 0.03, which means 3% of the variation in movie scores is explained by the model. That's not good"
   ]
  },
  {
   "cell_type": "code",
   "execution_count": 10,
   "metadata": {
    "scrolled": true
   },
   "outputs": [
    {
     "data": {
      "text/plain": [
       "0.39946139999959934"
      ]
     },
     "execution_count": 10,
     "metadata": {},
     "output_type": "execute_result"
    }
   ],
   "source": [
    "math.sqrt(mean_squared_error(y_test, y_test_p))"
   ]
  },
  {
   "cell_type": "markdown",
   "metadata": {},
   "source": [
    "The RMSE is 0.39. Which means that we are typically about 0.39 off in our predicted rating (which goes from 0-10). "
   ]
  },
  {
   "cell_type": "code",
   "execution_count": 11,
   "metadata": {
    "scrolled": true
   },
   "outputs": [
    {
     "data": {
      "image/png": "[encoded data removed]",
      "text/plain": [
       "<Figure size 432x288 with 1 Axes>"
      ]
     },
     "metadata": {
      "needs_background": "light"
     },
     "output_type": "display_data"
    }
   ],
   "source": [
    "sns.scatterplot(y_test, y_test_p)\n",
    "plt.xlabel('Actual rating')\n",
    "plt.ylabel('Predicted rating')\n",
    "plt.xlim([3,9]) #Forcing the x- and y-axis to be the same length, so that we can compare \n",
    "plt.ylim([3,9])\n",
    "plt.plot([3, 9], [3, 9], color='red', lw=3) #Plot a diagonal length\n",
    "plt.show()"
   ]
  },
  {
   "cell_type": "markdown",
   "metadata": {},
   "source": [
    "The predictions are not really balanced. We don't predict so well becuase the most of the predictions are under the line but not around the line. the model is not doing a fine job."
   ]
  }
 ],
 "metadata": {
  "kernelspec": {
   "display_name": "Python 3",
   "language": "python",
   "name": "python3"
  },
  "language_info": {
   "codemirror_mode": {
    "name": "ipython",
    "version": 3
   },
   "file_extension": ".py",
   "mimetype": "text/x-python",
   "name": "python",
   "nbconvert_exporter": "python",
   "pygments_lexer": "ipython3",
   "version": "3.8.3"
  }
 },
 "nbformat": 4,
 "nbformat_minor": 4
}
